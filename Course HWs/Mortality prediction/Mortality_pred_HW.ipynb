{
 "cells": [
  {
   "cell_type": "markdown",
   "id": "a8ffb2fd-b4df-4f99-8b39-f210682505a0",
   "metadata": {},
   "source": [
    "## Mortality prediction using the patient history as features at the admitting time. we use 3 different ML algorithms and then k-top features, extract the best then train on that specification for future use."
   ]
  },
  {
   "cell_type": "code",
   "execution_count": 30,
   "id": "47709891",
   "metadata": {},
   "outputs": [],
   "source": [
    "te= pd.read_csv('mimic_synthetic_train.data',delimiter='\\t')"
   ]
  },
  {
   "cell_type": "code",
   "execution_count": 32,
   "id": "76621b1b",
   "metadata": {},
   "outputs": [
    {
     "data": {
      "text/plain": [
       "0 45524 108398 2128-05-15_23:42:00 2132-07-23_15:00:00 Private ENGL CATHOLIC DIVORCED WHITE F 21 57.20763 108.70403 70.84198 79.84706 119.72417 94.43509 26.88091 68.87654 48.665768 37.614445 83.69008 61.041763 9.086277 24.325495 15.317726 34.62702 37.50046 37.149044 88.51736 98.391525 99.37205 134.7437 217.31165 155.57593 68.14249 100.063774 78.120926 89.537865 117.834885 101.29518 43.92086 77.057724 55.98346 53.546776 111.118515 69.4211 9.324791 22.099834 11.84994 36.550964 38.26282 37.45261 95.36716 98.37079 98.22621 131.80171 119.95358 128.09946 SICU 0 0 0 0 0 0 0 0 0 0 0 0 0 0 0 0 0 0 0 0 0 0 0 0 0 0 0 0 0 0 0 0 0 0 0 0 0 0 0 0 0 0 0 0 0 0 0 0 0 0 0 0 0 0 0 0 0 0 0 0 0 0 0 0 0 0 0 0 0 0 0 0 0 0 0 0 0 0 0 0 0 0 0 0 0 0 0 0 0 0 0 0 0 0 0 0 0 0 0 0 0 0 0 0 0 0 0 0 0 0 0 0 0 0 0 0 0 0 0 0 0 0 0 0 0 0 0 0 0 0 0 0 0 0 0 0 0 0 0 0 0 0 0 0 0 0 0 0 0 0 0 0 0 0 0 0 0 0 0 0 0 0 0 0 0 0 0 0 0 0 0 0 0 0 0 0 0 0 0 0 0 0 0 0 0 0 0 0 0 0 0 0.0 0 0 0 0 0 0 0 0 0 0 0 0 0 0 0 0 0 0 0 0 0 0 0 0 0 0 0 0 0 0 0 0 0 0 0 0 0 0 0 0.0 0 0 0 0 0 0 0 0 0 0 0 0 0 0 0 0 0 0 0 0 0 0 0 0 0 0 0 0 0 0 0 0 0 0 0 0 0 0 0 0 0 0 0 0 0.0 0 0 0 0    1 50520 186416 2134-03-17_03:59:00 2113-03-06_...\n",
       "Name: 0, dtype: object"
      ]
     },
     "execution_count": 32,
     "metadata": {},
     "output_type": "execute_result"
    }
   ],
   "source": [
    "te.iloc[0]"
   ]
  },
  {
   "cell_type": "code",
   "execution_count": 33,
   "id": "f5c07110",
   "metadata": {},
   "outputs": [],
   "source": [
    "te.columns=['column']"
   ]
  },
  {
   "cell_type": "code",
   "execution_count": 9,
   "id": "e061ad70",
   "metadata": {},
   "outputs": [
    {
     "data": {
      "text/plain": [
       "column    1 50520 186416 2134-03-17_03:59:00 2113-03-06_...\n",
       "Name: 0, dtype: object"
      ]
     },
     "execution_count": 9,
     "metadata": {},
     "output_type": "execute_result"
    }
   ],
   "source": [
    "te.iloc[0]"
   ]
  },
  {
   "cell_type": "code",
   "execution_count": 25,
   "id": "315684e7",
   "metadata": {},
   "outputs": [
    {
     "data": {
      "text/html": [
       "<div>\n",
       "<style scoped>\n",
       "    .dataframe tbody tr th:only-of-type {\n",
       "        vertical-align: middle;\n",
       "    }\n",
       "\n",
       "    .dataframe tbody tr th {\n",
       "        vertical-align: top;\n",
       "    }\n",
       "\n",
       "    .dataframe thead th {\n",
       "        text-align: right;\n",
       "    }\n",
       "</style>\n",
       "<table border=\"1\" class=\"dataframe\">\n",
       "  <thead>\n",
       "    <tr style=\"text-align: right;\">\n",
       "      <th></th>\n",
       "      <th>column</th>\n",
       "    </tr>\n",
       "  </thead>\n",
       "  <tbody>\n",
       "    <tr>\n",
       "      <th>0</th>\n",
       "      <td>1 50520 186416 2134-03-17_03:59:00 2113-03-06_...</td>\n",
       "    </tr>\n",
       "    <tr>\n",
       "      <th>1</th>\n",
       "      <td>2 17956 126413 2164-04-05_17:32:00 2180-09-20_...</td>\n",
       "    </tr>\n",
       "    <tr>\n",
       "      <th>2</th>\n",
       "      <td>3 90258 109355 2102-09-08_00:58:00 2166-06-26_...</td>\n",
       "    </tr>\n",
       "    <tr>\n",
       "      <th>3</th>\n",
       "      <td>4 25159 123784 2163-08-06_12:07:00 2147-01-14_...</td>\n",
       "    </tr>\n",
       "    <tr>\n",
       "      <th>4</th>\n",
       "      <td>5 11634 144424 2147-08-30_19:51:00 2136-11-19_...</td>\n",
       "    </tr>\n",
       "    <tr>\n",
       "      <th>...</th>\n",
       "      <td>...</td>\n",
       "    </tr>\n",
       "    <tr>\n",
       "      <th>79993</th>\n",
       "      <td>79994 63788 148874 2196-08-05_16:06:00 2135-02...</td>\n",
       "    </tr>\n",
       "    <tr>\n",
       "      <th>79994</th>\n",
       "      <td>79995 22326 119010 2167-10-06_18:35:00 2121-01...</td>\n",
       "    </tr>\n",
       "    <tr>\n",
       "      <th>79995</th>\n",
       "      <td>79996 81274 183388 2143-04-04_10:30:00 2141-08...</td>\n",
       "    </tr>\n",
       "    <tr>\n",
       "      <th>79996</th>\n",
       "      <td>79997 16587 151289 2183-12-03_02:50:00 2101-08...</td>\n",
       "    </tr>\n",
       "    <tr>\n",
       "      <th>79997</th>\n",
       "      <td>79998 17643 145064 2184-05-27_23:46:00 2128-08...</td>\n",
       "    </tr>\n",
       "  </tbody>\n",
       "</table>\n",
       "<p>79998 rows × 1 columns</p>\n",
       "</div>"
      ],
      "text/plain": [
       "                                                  column\n",
       "0      1 50520 186416 2134-03-17_03:59:00 2113-03-06_...\n",
       "1      2 17956 126413 2164-04-05_17:32:00 2180-09-20_...\n",
       "2      3 90258 109355 2102-09-08_00:58:00 2166-06-26_...\n",
       "3      4 25159 123784 2163-08-06_12:07:00 2147-01-14_...\n",
       "4      5 11634 144424 2147-08-30_19:51:00 2136-11-19_...\n",
       "...                                                  ...\n",
       "79993  79994 63788 148874 2196-08-05_16:06:00 2135-02...\n",
       "79994  79995 22326 119010 2167-10-06_18:35:00 2121-01...\n",
       "79995  79996 81274 183388 2143-04-04_10:30:00 2141-08...\n",
       "79996  79997 16587 151289 2183-12-03_02:50:00 2101-08...\n",
       "79997  79998 17643 145064 2184-05-27_23:46:00 2128-08...\n",
       "\n",
       "[79998 rows x 1 columns]"
      ]
     },
     "execution_count": 25,
     "metadata": {},
     "output_type": "execute_result"
    }
   ],
   "source": [
    "pd.DataFrame(te)"
   ]
  },
  {
   "cell_type": "code",
   "execution_count": 21,
   "id": "4674d727",
   "metadata": {},
   "outputs": [],
   "source": [
    "ff=te.T"
   ]
  },
  {
   "cell_type": "code",
   "execution_count": 91,
   "id": "1b2168e3",
   "metadata": {},
   "outputs": [
    {
     "data": {
      "text/plain": [
       "'RELIGION'"
      ]
     },
     "execution_count": 91,
     "metadata": {},
     "output_type": "execute_result"
    }
   ],
   "source": [
    "ff['SUBJECT_ID'][5]"
   ]
  },
  {
   "cell_type": "code",
   "execution_count": 71,
   "id": "0d1138ef",
   "metadata": {},
   "outputs": [
    {
     "data": {
      "text/plain": [
       "0      HADM_ID\n",
       "1    ADMITTIME\n",
       "2    DISCHTIME\n",
       "Name: SUBJECT_ID, dtype: object"
      ]
     },
     "execution_count": 71,
     "metadata": {},
     "output_type": "execute_result"
    }
   ],
   "source": [
    "ff.iloc[:3,-1]"
   ]
  },
  {
   "cell_type": "code",
   "execution_count": null,
   "id": "5d952c7d",
   "metadata": {},
   "outputs": [],
   "source": []
  },
  {
   "cell_type": "code",
   "execution_count": 103,
   "id": "132483f0",
   "metadata": {},
   "outputs": [],
   "source": [
    "rows_list=['SUBJECT_ID']\n",
    "#rows_list=[]\n",
    "for i in range(340):\n",
    "    \n",
    "    rows_list.append(ff['SUBJECT_ID'][i])"
   ]
  },
  {
   "cell_type": "code",
   "execution_count": 207,
   "id": "e4088cdb",
   "metadata": {},
   "outputs": [],
   "source": [
    "#rows_list"
   ]
  },
  {
   "cell_type": "code",
   "execution_count": 23,
   "id": "d8db91ea",
   "metadata": {},
   "outputs": [
    {
     "data": {
      "text/plain": [
       "['SUBJECT_ID']"
      ]
     },
     "execution_count": 23,
     "metadata": {},
     "output_type": "execute_result"
    }
   ],
   "source": [
    "list((fn.T).columns)+list()"
   ]
  },
  {
   "cell_type": "code",
   "execution_count": 37,
   "id": "3247797c",
   "metadata": {},
   "outputs": [],
   "source": [
    "rows_list=[]\n",
    "for row in ff:\n",
    "    rows_list.append(row)"
   ]
  },
  {
   "cell_type": "code",
   "execution_count": 36,
   "id": "60769c19",
   "metadata": {},
   "outputs": [],
   "source": [
    "rows_list=[]\n",
    "for row in fn:\n",
    "    rows_list.append(row)"
   ]
  },
  {
   "cell_type": "code",
   "execution_count": 38,
   "id": "380f5ec4",
   "metadata": {},
   "outputs": [
    {
     "data": {
      "text/plain": [
       "['SUBJECT_ID']"
      ]
     },
     "execution_count": 38,
     "metadata": {},
     "output_type": "execute_result"
    }
   ],
   "source": [
    "rows_list"
   ]
  },
  {
   "cell_type": "code",
   "execution_count": 11,
   "id": "03be2062",
   "metadata": {},
   "outputs": [],
   "source": [
    "fn= pd.read_csv('mimic_synthetic_feat.name',delimiter='\\t').T"
   ]
  },
  {
   "cell_type": "code",
   "execution_count": 35,
   "id": "4636dc63",
   "metadata": {},
   "outputs": [
    {
     "data": {
      "text/html": [
       "<div>\n",
       "<style scoped>\n",
       "    .dataframe tbody tr th:only-of-type {\n",
       "        vertical-align: middle;\n",
       "    }\n",
       "\n",
       "    .dataframe tbody tr th {\n",
       "        vertical-align: top;\n",
       "    }\n",
       "\n",
       "    .dataframe thead th {\n",
       "        text-align: right;\n",
       "    }\n",
       "</style>\n",
       "<table border=\"1\" class=\"dataframe\">\n",
       "  <thead>\n",
       "    <tr style=\"text-align: right;\">\n",
       "      <th></th>\n",
       "      <th>0</th>\n",
       "      <th>1</th>\n",
       "      <th>2</th>\n",
       "      <th>3</th>\n",
       "      <th>4</th>\n",
       "      <th>5</th>\n",
       "      <th>6</th>\n",
       "      <th>7</th>\n",
       "      <th>8</th>\n",
       "      <th>9</th>\n",
       "      <th>...</th>\n",
       "      <th>330</th>\n",
       "      <th>331</th>\n",
       "      <th>332</th>\n",
       "      <th>333</th>\n",
       "      <th>334</th>\n",
       "      <th>335</th>\n",
       "      <th>336</th>\n",
       "      <th>337</th>\n",
       "      <th>338</th>\n",
       "      <th>339</th>\n",
       "    </tr>\n",
       "  </thead>\n",
       "  <tbody>\n",
       "    <tr>\n",
       "      <th>SUBJECT_ID</th>\n",
       "      <td>HADM_ID</td>\n",
       "      <td>ADMITTIME</td>\n",
       "      <td>DISCHTIME</td>\n",
       "      <td>INSURANCE</td>\n",
       "      <td>LANGUAGE</td>\n",
       "      <td>RELIGION</td>\n",
       "      <td>MARITAL_STATUS</td>\n",
       "      <td>ETHNICITY</td>\n",
       "      <td>GENDER</td>\n",
       "      <td>AGE</td>\n",
       "      <td>...</td>\n",
       "      <td>Eyeinfectn</td>\n",
       "      <td>Othereyedx</td>\n",
       "      <td>Otitismedia</td>\n",
       "      <td>Dizziness</td>\n",
       "      <td>Othereardx</td>\n",
       "      <td>Othnervdx</td>\n",
       "      <td>Hrtvalvedx</td>\n",
       "      <td>Carditis</td>\n",
       "      <td>HTN</td>\n",
       "      <td>Htncomplicn</td>\n",
       "    </tr>\n",
       "  </tbody>\n",
       "</table>\n",
       "<p>1 rows × 340 columns</p>\n",
       "</div>"
      ],
      "text/plain": [
       "                0          1          2          3         4         5    \\\n",
       "SUBJECT_ID  HADM_ID  ADMITTIME  DISCHTIME  INSURANCE  LANGUAGE  RELIGION   \n",
       "\n",
       "                       6          7       8    9    ...         330  \\\n",
       "SUBJECT_ID  MARITAL_STATUS  ETHNICITY  GENDER  AGE  ...  Eyeinfectn   \n",
       "\n",
       "                   331          332        333         334        335  \\\n",
       "SUBJECT_ID  Othereyedx  Otitismedia  Dizziness  Othereardx  Othnervdx   \n",
       "\n",
       "                   336       337  338          339  \n",
       "SUBJECT_ID  Hrtvalvedx  Carditis  HTN  Htncomplicn  \n",
       "\n",
       "[1 rows x 340 columns]"
      ]
     },
     "execution_count": 35,
     "metadata": {},
     "output_type": "execute_result"
    }
   ],
   "source": [
    "fn"
   ]
  },
  {
   "cell_type": "code",
   "execution_count": 13,
   "id": "c2efa226",
   "metadata": {},
   "outputs": [],
   "source": [
    "tr=pd.read_csv('mimic_synthetic_train.data')"
   ]
  },
  {
   "cell_type": "code",
   "execution_count": 17,
   "id": "403cb203",
   "metadata": {},
   "outputs": [
    {
     "data": {
      "text/plain": [
       "column    1 50520 186416 2134-03-17_03:59:00 2113-03-06_...\n",
       "Name: 0, dtype: object"
      ]
     },
     "execution_count": 17,
     "metadata": {},
     "output_type": "execute_result"
    }
   ],
   "source": [
    "te.iloc[0]"
   ]
  },
  {
   "cell_type": "code",
   "execution_count": 20,
   "id": "dfa6b9fa",
   "metadata": {},
   "outputs": [],
   "source": [
    "categorical_features.append('ecodes:motorvehicletraffic(mvt)')\n",
    "categorical_features.append('ECodes:Adverseeffectsofmedicalcare')"
   ]
  },
  {
   "cell_type": "code",
   "execution_count": null,
   "id": "f738ba6e",
   "metadata": {},
   "outputs": [],
   "source": []
  },
  {
   "cell_type": "markdown",
   "id": "7c67c398",
   "metadata": {},
   "source": [
    "# Mortality prediction"
   ]
  },
  {
   "cell_type": "code",
   "execution_count": 2,
   "id": "67dffbb9",
   "metadata": {},
   "outputs": [],
   "source": [
    "import pandas as pd\n",
    "import numpy as np\n",
    "import matplotlib.pyplot as plt"
   ]
  },
  {
   "cell_type": "code",
   "execution_count": null,
   "id": "3a9b8efe",
   "metadata": {},
   "outputs": [],
   "source": []
  },
  {
   "cell_type": "code",
   "execution_count": 195,
   "id": "55bf969e",
   "metadata": {},
   "outputs": [],
   "source": [
    "import csv\n",
    "\n",
    "# Read data from .data file\n",
    "with open('mimic_synthetic_train.data', 'r') as f:\n",
    "    data = f.readlines()\n",
    "\n",
    "# Assuming you have 341 columns stored in a list named rows_list\n",
    "# Create a CSV file and write data row-wise\n",
    "with open('output.csv', 'w', newline='') as csvfile:\n",
    "    writer = csv.writer(csvfile)\n",
    "    \n",
    "    # Write column names to the CSV file\n",
    "    writer.writerow(rows_list)\n",
    "    \n",
    "    # Write data row-wise to the CSV file\n",
    "    for line in data:\n",
    "        # Split the line into individual values by space\n",
    "        values = line.strip().split(' ')\n",
    "       \n",
    "        writer.writerow(values)\n"
   ]
  },
  {
   "cell_type": "code",
   "execution_count": null,
   "id": "62ebb1c5",
   "metadata": {},
   "outputs": [],
   "source": []
  },
  {
   "cell_type": "code",
   "execution_count": 3,
   "id": "d947885e",
   "metadata": {},
   "outputs": [],
   "source": [
    "tval= pd.read_csv('mimic_synthetic_train.solution')"
   ]
  },
  {
   "cell_type": "code",
   "execution_count": 4,
   "id": "365018e6",
   "metadata": {},
   "outputs": [],
   "source": [
    "data=pd.read_csv('output.csv')"
   ]
  },
  {
   "cell_type": "code",
   "execution_count": 5,
   "id": "a6d025d7",
   "metadata": {},
   "outputs": [],
   "source": [
    "#data"
   ]
  },
  {
   "cell_type": "code",
   "execution_count": 9,
   "id": "a1713de8",
   "metadata": {},
   "outputs": [],
   "source": [
    "died_number=(tval.iloc[:, 0] == 1).sum()"
   ]
  },
  {
   "cell_type": "code",
   "execution_count": 10,
   "id": "5534412e",
   "metadata": {},
   "outputs": [],
   "source": [
    "alive_numbers=(tval.iloc[:, 0] == 0).sum()"
   ]
  },
  {
   "cell_type": "code",
   "execution_count": 161,
   "id": "c0261673",
   "metadata": {},
   "outputs": [
    {
     "name": "stderr",
     "output_type": "stream",
     "text": [
      "No artists with labels found to put in legend.  Note that artists whose label start with an underscore are ignored when legend() is called with no argument.\n"
     ]
    },
    {
     "data": {
      "image/png": "[encoded data removed]",
      "text/plain": [
       "<Figure size 640x480 with 1 Axes>"
      ]
     },
     "metadata": {},
     "output_type": "display_data"
    }
   ],
   "source": [
    "\n",
    "a=['Died','Alive']\n",
    "b=[died_number,alive_numbers]\n",
    "plt.bar(a, b)\n",
    "\n",
    "plt.title('dataset analysis orf the numbers of alive and died datapoints')\n",
    "plt.xlabel('Class of alive or died')\n",
    "plt.ylabel('total datapoints')\n",
    "plt.legend()\n",
    "plt.grid(True)\n",
    "plt.show()"
   ]
  },
  {
   "cell_type": "markdown",
   "id": "77291d0c-9647-4d0f-afc3-67b9e14b807a",
   "metadata": {},
   "source": [
    "## As concluded by the graph, we have a huge amount of data points which will be better for a deep learning network, But in the course, we are stuck to using only Machine Learning algorithms to create a predictive model therefore we will now split the dataset in a manner such that we could remove the biasness by almost taking equal amount of both class's data points. can be seen in the below graph."
   ]
  },
  {
   "cell_type": "code",
   "execution_count": 16,
   "id": "4656509f",
   "metadata": {},
   "outputs": [],
   "source": [
    "data1=data.iloc[:,1:]\n"
   ]
  },
  {
   "cell_type": "code",
   "execution_count": 18,
   "id": "db40dfc4",
   "metadata": {},
   "outputs": [],
   "source": [
    "# Load feature types from the .type file\n",
    "with open('mimic_synthetic_feat.type', 'r') as file:\n",
    "    feature_types = file.read().splitlines()\n",
    "    \n",
    "with open('mimic_synthetic_feat.name', 'r') as file:\n",
    "    feature_names = file.read().splitlines()\n",
    "\n",
    "# Separate feature names based on their types\n",
    "numeric_features = [data1.columns[i] for i, f_type in enumerate(feature_types) if f_type == 'Numerical']\n",
    "categorical_features = [data1.columns[i] for i, f_type in enumerate(feature_types) if f_type == 'Categorical']\n",
    "binary_features = [data1.columns[i] for i, f_type in enumerate(feature_types) if f_type == 'Binary']\n",
    "\n"
   ]
  },
  {
   "cell_type": "code",
   "execution_count": null,
   "id": "e00e3805",
   "metadata": {},
   "outputs": [],
   "source": [
    "categorical_features.append('ecodes:motorvehicletraffic(mvt)')\n",
    "categorical_features.append('ECodes:Adverseeffectsofmedicalcare')"
   ]
  },
  {
   "cell_type": "code",
   "execution_count": null,
   "id": "2e00d53a-93e1-42fa-a49d-4631a14a2b60",
   "metadata": {},
   "outputs": [],
   "source": []
  },
  {
   "cell_type": "code",
   "execution_count": 21,
   "id": "26acf17b",
   "metadata": {},
   "outputs": [
    {
     "data": {
      "text/plain": [
       "['ADMITTIME',\n",
       " 'DISCHTIME',\n",
       " 'INSURANCE',\n",
       " 'LANGUAGE',\n",
       " 'RELIGION',\n",
       " 'MARITAL_STATUS',\n",
       " 'ETHNICITY',\n",
       " 'ICU',\n",
       " 'ecodes:motorvehicletraffic(mvt)',\n",
       " 'ECodes:Adverseeffectsofmedicalcare']"
      ]
     },
     "execution_count": 21,
     "metadata": {},
     "output_type": "execute_result"
    }
   ],
   "source": [
    "categorical_features"
   ]
  },
  {
   "cell_type": "code",
   "execution_count": 22,
   "id": "7bb14da9",
   "metadata": {},
   "outputs": [],
   "source": [
    "data1=data1.drop(categorical_features, axis=1)  # drop catagorical features, which is not neccesary for ML models"
   ]
  },
  {
   "cell_type": "code",
   "execution_count": null,
   "id": "63f795e9",
   "metadata": {},
   "outputs": [],
   "source": []
  },
  {
   "cell_type": "code",
   "execution_count": 23,
   "id": "12a99287",
   "metadata": {},
   "outputs": [],
   "source": [
    "replacement_dict = {'F':0 , 'M': 1}  # 0 = Female, 1 = Male\n",
    "\n",
    "data1['GENDER'] = data1['GENDER'].replace(replacement_dict)  # Replace values in 'GENDER'\n"
   ]
  },
  {
   "cell_type": "code",
   "execution_count": 24,
   "id": "ad26a000",
   "metadata": {},
   "outputs": [
    {
     "name": "stdout",
     "output_type": "stream",
     "text": [
      "Index([   77,    89,   100,   122,   178,   198,   200,   205,   251,   254,\n",
      "       ...\n",
      "       79725, 79747, 79762, 79806, 79813, 79876, 79889, 79936, 79948, 79979],\n",
      "      dtype='int64', length=2797)\n"
     ]
    }
   ],
   "source": [
    "indexes = tval[tval['0'] == 1].index\n",
    "\n",
    "# Print the indexes where the value of the column equals 1, mean died.\n",
    "print(indexes)"
   ]
  },
  {
   "cell_type": "code",
   "execution_count": null,
   "id": "a18c8d18",
   "metadata": {},
   "outputs": [],
   "source": []
  },
  {
   "cell_type": "code",
   "execution_count": 25,
   "id": "d4dbdba5",
   "metadata": {},
   "outputs": [],
   "source": [
    "died_val=data1.iloc[indexes]"
   ]
  },
  {
   "cell_type": "code",
   "execution_count": 26,
   "id": "a8bbfe26",
   "metadata": {},
   "outputs": [],
   "source": [
    "died_label=tval.iloc[indexes]"
   ]
  },
  {
   "cell_type": "code",
   "execution_count": 27,
   "id": "d4066882",
   "metadata": {},
   "outputs": [],
   "source": [
    "alive_val=data1.drop(indexes)"
   ]
  },
  {
   "cell_type": "code",
   "execution_count": 28,
   "id": "53496f1a",
   "metadata": {},
   "outputs": [],
   "source": [
    "alive_label=tval.drop(indexes)"
   ]
  },
  {
   "cell_type": "code",
   "execution_count": null,
   "id": "4811e128",
   "metadata": {},
   "outputs": [],
   "source": []
  },
  {
   "cell_type": "code",
   "execution_count": 29,
   "id": "5f10714f",
   "metadata": {},
   "outputs": [],
   "source": [
    "alive_val=alive_val[:10000]"
   ]
  },
  {
   "cell_type": "code",
   "execution_count": 32,
   "id": "a7c90271",
   "metadata": {},
   "outputs": [],
   "source": [
    "alive_label=alive_label[:10000]"
   ]
  },
  {
   "cell_type": "code",
   "execution_count": 176,
   "id": "e22c22ea",
   "metadata": {},
   "outputs": [],
   "source": [
    "from sklearn.model_selection import train_test_split\n",
    "\n",
    "X_died_train, X_died_test, y_died_train, y_died_test = train_test_split(died_val, died_label, train_size=2000, test_size=796, random_state=42)\n",
    "X_alive_train, X_alive_test, y_alive_train, y_alive_test = train_test_split(alive_val, alive_label, train_size=4500, test_size=2000, random_state=42)\n"
   ]
  },
  {
   "cell_type": "code",
   "execution_count": null,
   "id": "6bcaa17f",
   "metadata": {},
   "outputs": [],
   "source": []
  },
  {
   "cell_type": "code",
   "execution_count": 177,
   "id": "64551307",
   "metadata": {},
   "outputs": [
    {
     "data": {
      "text/plain": [
       "(2000, 331)"
      ]
     },
     "execution_count": 177,
     "metadata": {},
     "output_type": "execute_result"
    }
   ],
   "source": [
    "X_died_train.shape"
   ]
  },
  {
   "cell_type": "code",
   "execution_count": 178,
   "id": "85f70ab6",
   "metadata": {},
   "outputs": [],
   "source": [
    "xdt=X_died_train.shape[0] "
   ]
  },
  {
   "cell_type": "code",
   "execution_count": 179,
   "id": "d3390422",
   "metadata": {},
   "outputs": [],
   "source": [
    "xat=X_alive_train.shape[0]"
   ]
  },
  {
   "cell_type": "code",
   "execution_count": 180,
   "id": "090cf9d0",
   "metadata": {},
   "outputs": [],
   "source": [
    "xdtest=X_died_test.shape[0]"
   ]
  },
  {
   "cell_type": "code",
   "execution_count": 181,
   "id": "bd8591ad",
   "metadata": {},
   "outputs": [],
   "source": [
    "xatest=X_alive_test.shape[0]"
   ]
  },
  {
   "cell_type": "markdown",
   "id": "be3df8e7-6ce2-41bb-97e5-53042f569d28",
   "metadata": {},
   "source": [
    "## This project was to be done using ML algorithms. The data points were very high and the ML algorithm could not perform very well therefore the data points are being divided for training and testing on which a model can be fit very well and unbiased. "
   ]
  },
  {
   "cell_type": "code",
   "execution_count": 182,
   "id": "a0e5a64a",
   "metadata": {},
   "outputs": [
    {
     "name": "stdout",
     "output_type": "stream",
     "text": [
      "4500 2000\n"
     ]
    },
    {
     "data": {
      "image/png": "[encoded data removed]",
      "text/plain": [
       "<Figure size 640x480 with 1 Axes>"
      ]
     },
     "metadata": {},
     "output_type": "display_data"
    }
   ],
   "source": [
    "\n",
    "categories = ['X_training', 'X_testing']\n",
    "part1 = [xat, xatest]  \n",
    "part2 = [xdt, xdtest]    \n",
    "#total = [part1[i] + part2[i] for i in range(len(part1))]\n",
    "print(part1[0],part1[1])\n",
    "\n",
    "plt.bar(categories, part1, label='Alive', color='lightblue')\n",
    "plt.bar(categories, part2, bottom=part1, label='Died', color='salmon')\n",
    "\n",
    "plt.ylabel('Sample points')\n",
    "plt.title('ready to use data comparison')\n",
    "plt.legend()\n",
    "plt.grid()\n",
    "plt.show()"
   ]
  },
  {
   "cell_type": "code",
   "execution_count": null,
   "id": "850158cf",
   "metadata": {},
   "outputs": [],
   "source": []
  },
  {
   "cell_type": "markdown",
   "id": "913ea7db-a6d8-4859-b1fd-64a6090f16e6",
   "metadata": {},
   "source": [
    "## At this point we almost ready the data to be used for training"
   ]
  },
  {
   "cell_type": "code",
   "execution_count": 71,
   "id": "ddcc428d",
   "metadata": {},
   "outputs": [],
   "source": [
    "# Combine training and testing sets\n",
    "X_train = np.concatenate((X_died_train, X_alive_train), axis=0)\n",
    "X_test = np.concatenate((X_died_test, X_alive_test), axis=0)\n",
    "y_train = np.concatenate((y_died_train, y_alive_train), axis=0)\n",
    "y_test = np.concatenate((y_died_test, y_alive_test), axis=0)\n",
    "\n",
    "# Shuffle the data\n",
    "shuffle_idx_train = np.random.permutation(len(X_train))\n",
    "shuffle_idx_test = np.random.permutation(len(X_test))\n",
    "\n",
    "X_train, y_train = X_train[shuffle_idx_train], y_train[shuffle_idx_train]\n",
    "X_test, y_test = X_test[shuffle_idx_test], y_test[shuffle_idx_test]\n"
   ]
  },
  {
   "cell_type": "code",
   "execution_count": null,
   "id": "3234e8ea",
   "metadata": {},
   "outputs": [],
   "source": []
  },
  {
   "cell_type": "markdown",
   "id": "c5ac8d8d-0b1a-4b1b-8191-9f9ab21a6c7d",
   "metadata": {},
   "source": [
    "## We using 3 Models, Support vector machine, Naive Bay's, and  Random Forest because these will cover all approaches like hyperparameter base, probability base, and tree base respectively. we have 340 features so it will also extract the top-k features for each model using feature_selection algorithm of sklearn."
   ]
  },
  {
   "cell_type": "code",
   "execution_count": 86,
   "id": "c4f6f61f",
   "metadata": {},
   "outputs": [
    {
     "name": "stderr",
     "output_type": "stream",
     "text": [
      "100%|████████████████████████████████████████████████████████████████████████████████████| 6/6 [01:48<00:00, 18.06s/it]\n"
     ]
    },
    {
     "data": {
      "image/png": "[encoded data removed]",
      "text/plain": [
       "<Figure size 1000x600 with 1 Axes>"
      ]
     },
     "metadata": {},
     "output_type": "display_data"
    }
   ],
   "source": [
    "from sklearn.feature_selection import SelectKBest, f_classif\n",
    "from sklearn.svm import SVC\n",
    "from sklearn.naive_bayes import GaussianNB\n",
    "from sklearn.ensemble import RandomForestClassifier\n",
    "from sklearn.metrics import accuracy_score\n",
    "import warnings\n",
    "from tqdm import tqdm\n",
    "\n",
    "warnings.filterwarnings(\"ignore\")\n",
    "\n",
    "classifiers = {\n",
    "    \"SVM\": SVC(),\n",
    "    \"Naive Bayes\": GaussianNB(),\n",
    "    \"Random Forest\": RandomForestClassifier()\n",
    "}\n",
    "\n",
    "accuracies = {clf_name: [] for clf_name in classifiers.keys()}\n",
    "feature_set_sizes = [50, 100,150, 200,250, 'all']\n",
    "\n",
    "for k in tqdm(feature_set_sizes):\n",
    "    if k != 'all':\n",
    "        \n",
    "        selector = SelectKBest(score_func=f_classif, k=k)             # Select top ks features\n",
    "        X_train_selected = selector.fit_transform(X_train, y_train)\n",
    "        X_test_selected = selector.transform(X_test)\n",
    "    else:\n",
    "        X_train_selected = X_train\n",
    "        X_test_selected = X_test\n",
    "\n",
    "    \n",
    "    for clf_name, clf in classifiers.items():\n",
    "        clf.fit(X_train_selected, y_train)\n",
    "        y_pred = clf.predict(X_test_selected)\n",
    "        accuracy = accuracy_score(y_test, y_pred)\n",
    "        accuracies[clf_name].append(accuracy)\n",
    "\n",
    "plt.figure(figsize=(10, 6))\n",
    "\n",
    "for clf_name, acc_list in accuracies.items():\n",
    "    plt.plot(feature_set_sizes, acc_list, label=clf_name)\n",
    "\n",
    "plt.title('Accuracy vs. Number of Features')\n",
    "plt.xlabel('Number of Features')\n",
    "plt.ylabel('Accuracy')\n",
    "plt.legend()\n",
    "plt.grid(True)\n",
    "plt.show()\n"
   ]
  },
  {
   "cell_type": "code",
   "execution_count": null,
   "id": "4caf7a47",
   "metadata": {},
   "outputs": [],
   "source": []
  },
  {
   "cell_type": "code",
   "execution_count": 94,
   "id": "024a7a6b",
   "metadata": {},
   "outputs": [
    {
     "name": "stdout",
     "output_type": "stream",
     "text": [
      "The final accuracy of the Naive Bay's model withe top 110 features is: 0.6550522648083623\n"
     ]
    }
   ],
   "source": [
    "selector = SelectKBest(score_func=f_classif, k=110)\n",
    "X_train_selected = selector.fit_transform(X_train, y_train)\n",
    "X_test_selected = selector.transform(X_test)\n",
    "clf=GaussianNB()\n",
    "\n",
    "clf.fit(X_train_selected, y_train)\n",
    "y_pred = clf.predict(X_test_selected)\n",
    "accuracy = accuracy_score(y_test, y_pred)\n",
    "print(f\"The final accuracy of the Naive Bay's model withe top 110 features is: {accuracy}\")"
   ]
  },
  {
   "cell_type": "code",
   "execution_count": null,
   "id": "3a6da549",
   "metadata": {},
   "outputs": [],
   "source": []
  },
  {
   "cell_type": "code",
   "execution_count": 91,
   "id": "e4e2d66c",
   "metadata": {},
   "outputs": [
    {
     "data": {
      "text/plain": [
       "226"
      ]
     },
     "execution_count": 91,
     "metadata": {},
     "output_type": "execute_result"
    }
   ],
   "source": [
    "len(numeric_features)"
   ]
  },
  {
   "cell_type": "code",
   "execution_count": 92,
   "id": "7092a966",
   "metadata": {},
   "outputs": [
    {
     "data": {
      "text/plain": [
       "8"
      ]
     },
     "execution_count": 92,
     "metadata": {},
     "output_type": "execute_result"
    }
   ],
   "source": [
    "len(categorical_features)"
   ]
  },
  {
   "cell_type": "code",
   "execution_count": 94,
   "id": "ae82a32d",
   "metadata": {},
   "outputs": [
    {
     "data": {
      "text/plain": [
       "107"
      ]
     },
     "execution_count": 94,
     "metadata": {},
     "output_type": "execute_result"
    }
   ],
   "source": [
    "len(binary_features)"
   ]
  },
  {
   "cell_type": "code",
   "execution_count": 95,
   "id": "ce292623",
   "metadata": {},
   "outputs": [
    {
     "data": {
      "text/plain": [
       "341"
      ]
     },
     "execution_count": 95,
     "metadata": {},
     "output_type": "execute_result"
    }
   ],
   "source": [
    "226+8+107"
   ]
  },
  {
   "cell_type": "code",
   "execution_count": 103,
   "id": "548c25a0",
   "metadata": {},
   "outputs": [
    {
     "data": {
      "text/plain": [
       "['ADMITTIME',\n",
       " 'DISCHTIME',\n",
       " 'INSURANCE',\n",
       " 'LANGUAGE',\n",
       " 'RELIGION',\n",
       " 'MARITAL_STATUS',\n",
       " 'ETHNICITY',\n",
       " 'ICU']"
      ]
     },
     "execution_count": 103,
     "metadata": {},
     "output_type": "execute_result"
    }
   ],
   "source": [
    "categorical_features"
   ]
  }
 ],
 "metadata": {
  "kernelspec": {
   "display_name": "Python 3 (ipykernel)",
   "language": "python",
   "name": "python3"
  },
  "language_info": {
   "codemirror_mode": {
    "name": "ipython",
    "version": 3
   },
   "file_extension": ".py",
   "mimetype": "text/x-python",
   "name": "python",
   "nbconvert_exporter": "python",
   "pygments_lexer": "ipython3",
   "version": "3.12.4"
  }
 },
 "nbformat": 4,
 "nbformat_minor": 5
}
